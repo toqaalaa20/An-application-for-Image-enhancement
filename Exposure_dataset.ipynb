{
 "cells": [
  {
   "cell_type": "code",
   "execution_count": 1,
   "id": "133b8acc",
   "metadata": {},
   "outputs": [],
   "source": [
    "import tensorflow as tf\n",
    "import cv2\n",
    "import os\n",
    "from sklearn.model_selection import train_test_split\n",
    "import numpy as np\n",
    "from tensorflow.keras import Sequential\n",
    "from tensorflow.keras.layers import Dense, LSTM,  Conv2DTranspose, Input, Conv2D, MaxPooling2D, UpSampling2D, \\\n",
    "TimeDistributed, ConvLSTM2D, Reshape, Lambda, Flatten, Concatenate, Conv3D, MaxPooling3D, UpSampling3D, Conv3DTranspose\n",
    "from tensorflow.keras.backend import clear_session\n",
    "from tensorflow.keras.models import Model"
   ]
  },
  {
   "cell_type": "code",
   "execution_count": 2,
   "id": "ef93a749",
   "metadata": {},
   "outputs": [],
   "source": [
    "X=[]\n",
    "y=[]"
   ]
  },
  {
   "cell_type": "code",
   "execution_count": 3,
   "id": "d9add158",
   "metadata": {},
   "outputs": [],
   "source": [
    "data_dir= \"M:\\\\Exposure_dataset\\\\INPUT\"\n",
    "GT_dir= \"M:\\\\Exposure_dataset\\\\GT\""
   ]
  },
  {
   "cell_type": "code",
   "execution_count": 4,
   "id": "8104a9f1",
   "metadata": {},
   "outputs": [],
   "source": [
    "for img in os.listdir(data_dir):\n",
    "    image= cv2.imread(os.path.join(data_dir, img))\n",
    "    image= cv2.resize(image, (64, 64))\n",
    "    X.append(image)"
   ]
  },
  {
   "cell_type": "code",
   "execution_count": 5,
   "id": "7b938e62",
   "metadata": {},
   "outputs": [],
   "source": [
    "for img in os.listdir(GT_dir):\n",
    "    image= cv2.imread(os.path.join(GT_dir, img))\n",
    "    image= cv2.resize(image, (64, 64))\n",
    "    y.append(image)"
   ]
  },
  {
   "cell_type": "code",
   "execution_count": 6,
   "id": "aa763271",
   "metadata": {},
   "outputs": [],
   "source": [
    "X_data=[]\n",
    "y_data=[]"
   ]
  },
  {
   "cell_type": "code",
   "execution_count": 7,
   "id": "be87c043",
   "metadata": {},
   "outputs": [
    {
     "data": {
      "text/plain": [
       "24330"
      ]
     },
     "execution_count": 7,
     "metadata": {},
     "output_type": "execute_result"
    }
   ],
   "source": [
    "len(X)"
   ]
  },
  {
   "cell_type": "code",
   "execution_count": 8,
   "id": "6312f63c",
   "metadata": {},
   "outputs": [
    {
     "data": {
      "text/plain": [
       "4866"
      ]
     },
     "execution_count": 8,
     "metadata": {},
     "output_type": "execute_result"
    }
   ],
   "source": [
    "len(y)"
   ]
  },
  {
   "cell_type": "code",
   "execution_count": 9,
   "id": "2dfcb209",
   "metadata": {},
   "outputs": [],
   "source": [
    "sub_list=[]\n",
    "for i in range(len(X)):\n",
    "    sub_list.append(X[i])\n",
    "    if (i%5==4):\n",
    "        y_data.append(y[i//5])\n",
    "        X_data.append(sub_list)\n",
    "        sub_list=[]"
   ]
  },
  {
   "cell_type": "code",
   "execution_count": 10,
   "id": "468361e0",
   "metadata": {},
   "outputs": [],
   "source": [
    "X= []\n",
    "y=[]"
   ]
  },
  {
   "cell_type": "code",
   "execution_count": 11,
   "id": "f7b63d23",
   "metadata": {},
   "outputs": [
    {
     "data": {
      "text/plain": [
       "4866"
      ]
     },
     "execution_count": 11,
     "metadata": {},
     "output_type": "execute_result"
    }
   ],
   "source": [
    "len(X_data)"
   ]
  },
  {
   "cell_type": "code",
   "execution_count": 12,
   "id": "8ac68c11",
   "metadata": {},
   "outputs": [
    {
     "data": {
      "text/plain": [
       "4866"
      ]
     },
     "execution_count": 12,
     "metadata": {},
     "output_type": "execute_result"
    }
   ],
   "source": [
    "len(y_data)"
   ]
  },
  {
   "cell_type": "code",
   "execution_count": 13,
   "id": "d818a5f9",
   "metadata": {},
   "outputs": [],
   "source": [
    "X_train, X_val, y_train, y_val = train_test_split(X_data, y_data, test_size=0.2, random_state=42)\n",
    "\n",
    "X_train, X_test, y_train, y_test = train_test_split(X_train, y_train, test_size=0.125, random_state=42)"
   ]
  },
  {
   "cell_type": "code",
   "execution_count": null,
   "id": "413da768",
   "metadata": {},
   "outputs": [],
   "source": [
    "X_train = np.array(X_train, dtype = 'float')/255\n",
    "X_test = np.array(X_test, dtype = 'float')/255\n",
    "X_val = np.array(X_val, dtype = 'float')/255\n",
    "\n",
    "y_train = np.array(y_train, dtype = 'float')/255\n",
    "y_test = np.array(y_test, dtype = 'float')/255\n",
    "y_val = np.array(y_val, dtype = 'float')/255"
   ]
  },
  {
   "cell_type": "code",
   "execution_count": null,
   "id": "e305d3ec",
   "metadata": {},
   "outputs": [],
   "source": [
    "X_train.shape"
   ]
  },
  {
   "cell_type": "code",
   "execution_count": null,
   "id": "8bc68f48",
   "metadata": {},
   "outputs": [],
   "source": [
    "y_train.shape"
   ]
  },
  {
   "cell_type": "code",
   "execution_count": null,
   "id": "fd4e2806",
   "metadata": {},
   "outputs": [],
   "source": [
    "y_val.shape"
   ]
  },
  {
   "cell_type": "code",
   "execution_count": null,
   "id": "8b382d20",
   "metadata": {},
   "outputs": [],
   "source": [
    "clear_session()\n",
    "tf.compat.v1.reset_default_graph()"
   ]
  },
  {
   "cell_type": "code",
   "execution_count": 26,
   "id": "3d23e80b",
   "metadata": {},
   "outputs": [],
   "source": [
    "batch_input_shape= (5, 128, 128, 3)"
   ]
  },
  {
   "cell_type": "code",
   "execution_count": 23,
   "id": "906d6dca",
   "metadata": {},
   "outputs": [],
   "source": [
    "def encoder(inputs):\n",
    "    conv1 = Conv2D(64, (3, 3), activation='relu', padding='same')(inputs)\n",
    "    conv1 = Conv2D(64, (3, 3), activation='relu', padding='same')(conv1)\n",
    "    return conv1"
   ]
  },
  {
   "cell_type": "code",
   "execution_count": 27,
   "id": "42d95c0e",
   "metadata": {},
   "outputs": [],
   "source": [
    "batch_input = Input(shape=batch_input_shape)\n",
    "\n",
    "lst=[]\n",
    "\n",
    "for i in range(batch_input.shape[1]):\n",
    "    inputt = Lambda(lambda x: x[:, i])(batch_input)\n",
    "    lst.append(inputt)\n",
    "\n",
    "for i in range(len(lst)):\n",
    "    lst[i]= encoder(lst[i])\n",
    "\n",
    "conv1= Concatenate()(lst)\n",
    "\n",
    "pool1 = MaxPooling2D((2, 2))(conv1)  # Adjust pool size according to your data\n",
    "\n",
    "conv2 = Conv2D(128, (3, 3), activation='relu', padding='same')(pool1)\n",
    "conv2 = Conv2D(128, (3, 3), activation='relu', padding='same')(conv2)\n",
    "pool2 = MaxPooling2D(pool_size=(2, 2))(conv2)\n",
    "\n",
    "# Decoder (upsampling)\n",
    "up1 = Conv2DTranspose(128, (3, 3), activation='relu', padding='same', strides=(2, 2))(pool2)\n",
    "\n",
    "concat1 = Concatenate(axis=-1)([conv2, up1])\n",
    "conv3 = Conv2D(128, (3, 3), activation='relu', padding='same')(concat1)\n",
    "conv3 = Conv2D(128, (3, 3), activation='relu', padding='same')(conv3)\n",
    "\n",
    "up2 = Conv2DTranspose(64, (3, 3), activation='relu', padding='same', strides=(2, 2))(conv3)\n",
    "\n",
    "concat2 = Concatenate(axis=-1)([conv1, up2])\n",
    "\n",
    "conv4 = Conv2D(64, (3, 3), activation='relu', padding='same')(concat2)\n",
    "conv4 = Conv2D(64, (3, 3), activation='relu', padding='same')(conv4)\n",
    "output = Conv2D(3, (1,1), activation='sigmoid')(conv4)"
   ]
  },
  {
   "cell_type": "code",
   "execution_count": 18,
   "id": "abe67cff",
   "metadata": {
    "scrolled": true
   },
   "outputs": [],
   "source": [
    "model = Model(inputs=batch_input, outputs=output)"
   ]
  },
  {
   "cell_type": "code",
   "execution_count": 19,
   "id": "2a34287d",
   "metadata": {},
   "outputs": [],
   "source": [
    "model.compile(optimizer='adam', loss='mean_squared_error', metrics=['mae'])"
   ]
  },
  {
   "cell_type": "code",
   "execution_count": 20,
   "id": "d408bc73",
   "metadata": {},
   "outputs": [
    {
     "name": "stdout",
     "output_type": "stream",
     "text": [
      "Model: \"model\"\n",
      "__________________________________________________________________________________________________\n",
      "Layer (type)                    Output Shape         Param #     Connected to                     \n",
      "==================================================================================================\n",
      "input_11 (InputLayer)           [(None, 5, 128, 128, 0                                            \n",
      "__________________________________________________________________________________________________\n",
      "lambda_25 (Lambda)              (None, 128, 128, 3)  0           input_11[0][0]                   \n",
      "__________________________________________________________________________________________________\n",
      "lambda_26 (Lambda)              (None, 128, 128, 3)  0           input_11[0][0]                   \n",
      "__________________________________________________________________________________________________\n",
      "lambda_27 (Lambda)              (None, 128, 128, 3)  0           input_11[0][0]                   \n",
      "__________________________________________________________________________________________________\n",
      "lambda_28 (Lambda)              (None, 128, 128, 3)  0           input_11[0][0]                   \n",
      "__________________________________________________________________________________________________\n",
      "lambda_29 (Lambda)              (None, 128, 128, 3)  0           input_11[0][0]                   \n",
      "__________________________________________________________________________________________________\n",
      "conv2d_54 (Conv2D)              (None, 128, 128, 64) 1792        lambda_25[0][0]                  \n",
      "__________________________________________________________________________________________________\n",
      "conv2d_56 (Conv2D)              (None, 128, 128, 64) 1792        lambda_26[0][0]                  \n",
      "__________________________________________________________________________________________________\n",
      "conv2d_58 (Conv2D)              (None, 128, 128, 64) 1792        lambda_27[0][0]                  \n",
      "__________________________________________________________________________________________________\n",
      "conv2d_60 (Conv2D)              (None, 128, 128, 64) 1792        lambda_28[0][0]                  \n",
      "__________________________________________________________________________________________________\n",
      "conv2d_62 (Conv2D)              (None, 128, 128, 64) 1792        lambda_29[0][0]                  \n",
      "__________________________________________________________________________________________________\n",
      "conv2d_55 (Conv2D)              (None, 128, 128, 64) 36928       conv2d_54[0][0]                  \n",
      "__________________________________________________________________________________________________\n",
      "conv2d_57 (Conv2D)              (None, 128, 128, 64) 36928       conv2d_56[0][0]                  \n",
      "__________________________________________________________________________________________________\n",
      "conv2d_59 (Conv2D)              (None, 128, 128, 64) 36928       conv2d_58[0][0]                  \n",
      "__________________________________________________________________________________________________\n",
      "conv2d_61 (Conv2D)              (None, 128, 128, 64) 36928       conv2d_60[0][0]                  \n",
      "__________________________________________________________________________________________________\n",
      "conv2d_63 (Conv2D)              (None, 128, 128, 64) 36928       conv2d_62[0][0]                  \n",
      "__________________________________________________________________________________________________\n",
      "concatenate_8 (Concatenate)     (None, 128, 128, 320 0           conv2d_55[0][0]                  \n",
      "                                                                 conv2d_57[0][0]                  \n",
      "                                                                 conv2d_59[0][0]                  \n",
      "                                                                 conv2d_61[0][0]                  \n",
      "                                                                 conv2d_63[0][0]                  \n",
      "__________________________________________________________________________________________________\n",
      "max_pooling2d_4 (MaxPooling2D)  (None, 64, 64, 320)  0           concatenate_8[0][0]              \n",
      "__________________________________________________________________________________________________\n",
      "conv2d_64 (Conv2D)              (None, 64, 64, 128)  368768      max_pooling2d_4[0][0]            \n",
      "__________________________________________________________________________________________________\n",
      "conv2d_65 (Conv2D)              (None, 64, 64, 128)  147584      conv2d_64[0][0]                  \n",
      "__________________________________________________________________________________________________\n",
      "max_pooling2d_5 (MaxPooling2D)  (None, 32, 32, 128)  0           conv2d_65[0][0]                  \n",
      "__________________________________________________________________________________________________\n",
      "conv2d_transpose_4 (Conv2DTrans (None, 64, 64, 128)  147584      max_pooling2d_5[0][0]            \n",
      "__________________________________________________________________________________________________\n",
      "concatenate_9 (Concatenate)     (None, 64, 64, 256)  0           conv2d_65[0][0]                  \n",
      "                                                                 conv2d_transpose_4[0][0]         \n",
      "__________________________________________________________________________________________________\n",
      "conv2d_66 (Conv2D)              (None, 64, 64, 128)  295040      concatenate_9[0][0]              \n",
      "__________________________________________________________________________________________________\n",
      "conv2d_67 (Conv2D)              (None, 64, 64, 128)  147584      conv2d_66[0][0]                  \n",
      "__________________________________________________________________________________________________\n",
      "conv2d_transpose_5 (Conv2DTrans (None, 128, 128, 64) 73792       conv2d_67[0][0]                  \n",
      "__________________________________________________________________________________________________\n",
      "concatenate_10 (Concatenate)    (None, 128, 128, 384 0           concatenate_8[0][0]              \n",
      "                                                                 conv2d_transpose_5[0][0]         \n",
      "__________________________________________________________________________________________________\n",
      "conv2d_68 (Conv2D)              (None, 128, 128, 64) 221248      concatenate_10[0][0]             \n",
      "__________________________________________________________________________________________________\n",
      "conv2d_69 (Conv2D)              (None, 128, 128, 64) 36928       conv2d_68[0][0]                  \n",
      "__________________________________________________________________________________________________\n",
      "conv2d_70 (Conv2D)              (None, 128, 128, 3)  195         conv2d_69[0][0]                  \n",
      "==================================================================================================\n",
      "Total params: 1,632,323\n",
      "Trainable params: 1,632,323\n",
      "Non-trainable params: 0\n",
      "__________________________________________________________________________________________________\n"
     ]
    }
   ],
   "source": [
    "model.summary()"
   ]
  },
  {
   "cell_type": "code",
   "execution_count": null,
   "id": "b643ebfc",
   "metadata": {},
   "outputs": [],
   "source": [
    "with tf.device('/CPU:0'):\n",
    "    history= model.fit(X_train, y_train, validation_data=(X_val, y_val), epochs=6, batch_size=8)\n"
   ]
  },
  {
   "cell_type": "code",
   "execution_count": null,
   "id": "53c1fb6b",
   "metadata": {},
   "outputs": [],
   "source": [
    "model.save(\"my_model.h5\")"
   ]
  }
 ],
 "metadata": {
  "kernelspec": {
   "display_name": "Python 3 (ipykernel)",
   "language": "python",
   "name": "python3"
  },
  "language_info": {
   "codemirror_mode": {
    "name": "ipython",
    "version": 3
   },
   "file_extension": ".py",
   "mimetype": "text/x-python",
   "name": "python",
   "nbconvert_exporter": "python",
   "pygments_lexer": "ipython3",
   "version": "3.9.0"
  }
 },
 "nbformat": 4,
 "nbformat_minor": 5
}
