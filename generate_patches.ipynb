{
 "cells": [
  {
   "cell_type": "code",
   "execution_count": 1,
   "id": "6a22099d",
   "metadata": {},
   "outputs": [],
   "source": [
    "import cv2\n",
    "import numpy as np\n",
    "import random\n",
    "import matplotlib.pyplot as plt\n",
    "import os\n",
    "import re"
   ]
  },
  {
   "cell_type": "code",
   "execution_count": 2,
   "id": "9310baa8",
   "metadata": {},
   "outputs": [],
   "source": [
    "training_path= \"D:\\\\M\\\\Exposure_dataset\\\\training\\\\INPUT\"\n",
    "GT_path= \"D:\\\\M\\\\Exposure_dataset\\\\training\\\\GT\"\n",
    "patches_img= \"D:\\\\M\\\\Exposure_dataset\\\\training\\\\INPUT_patches\"\n",
    "GT_patches= \"D:\\\\M\\\\Exposure_dataset\\\\training\\\\GT_patches\""
   ]
  },
  {
   "cell_type": "code",
   "execution_count": 3,
   "id": "c513196c",
   "metadata": {},
   "outputs": [],
   "source": [
    "# validation_path= \"D:\\\\M\\\\Exposure_dataset\\\\validation\\\\INPUT\"\n",
    "# GT_path= \"D:\\\\M\\\\Exposure_dataset\\\\validation\\\\GT\"\n",
    "# patches_img= \"D:\\\\M\\\\Exposure_dataset\\\\validation\\\\INPUT_patches\"\n",
    "# GT_patches= \"D:\\\\M\\\\Exposure_dataset\\\\validation\\\\GT_patches\""
   ]
  },
  {
   "cell_type": "code",
   "execution_count": 4,
   "id": "4e2d1b34",
   "metadata": {},
   "outputs": [],
   "source": [
    "def generate_random_patch(image_path, patch_size=(128, 128)):\n",
    "    image = cv2.imread(image_path)\n",
    "    height, width, _ = image.shape\n",
    "    max_x = width - patch_size[1]\n",
    "    max_y = height - patch_size[0]\n",
    "   \n",
    "    random_x = random.randint(0, max_x)\n",
    "    random_y = random.randint(0, max_y)\n",
    "\n",
    "      \n",
    "    return random_x, random_y"
   ]
  },
  {
   "cell_type": "code",
   "execution_count": 9,
   "id": "ca10afe4",
   "metadata": {},
   "outputs": [],
   "source": [
    "def generate(data_dir, gt_dir, patch_size=(128, 128)):\n",
    "\n",
    "    for cnt in range(1, 17675, 5):\n",
    "        \n",
    "        img_path = os.path.join(data_dir, f'distorted_{cnt}.JPG' )\n",
    "        gt_path = os.path.join(gt_dir, f'enhanced_{cnt}.JPG')\n",
    "        \n",
    "        image = cv2.imread(img_path)\n",
    "        gt = cv2.imread(gt_path)\n",
    "        \n",
    "        \n",
    "        indices = generate_random_patch(img_path)\n",
    "        \n",
    "        y = indices[1]\n",
    "        x = indices[0]\n",
    "        \n",
    "\n",
    "        \n",
    "        patch_img = image[y:y+patch_size[0], x:x+patch_size[1]]  # Corrected indices order\n",
    "        patch_gt = gt[y:y+patch_size[0], x:x+patch_size[1]]  # Corrected indices order\n",
    "        \n",
    "        if (patch_img.all()==None or patch_gt.all()==None):\n",
    "            print('NO')\n",
    "        \n",
    "        \n",
    "        img_new = os.path.join(patches_img, f'distorted{cnt}.JPG')\n",
    "        gt_new = os.path.join(GT_patches, f'enhanced_{cnt}.JPG')\n",
    "        \n",
    "        cv2.imwrite(img_new, patch_img)\n",
    "        cv2.imwrite(gt_new, patch_gt)\n",
    "        \n"
   ]
  },
  {
   "cell_type": "code",
   "execution_count": 10,
   "id": "f2934ffa",
   "metadata": {},
   "outputs": [],
   "source": [
    "generate(training_path, GT_path)"
   ]
  },
  {
   "cell_type": "code",
   "execution_count": null,
   "id": "a3718076",
   "metadata": {},
   "outputs": [],
   "source": []
  },
  {
   "cell_type": "code",
   "execution_count": null,
   "id": "cf3a0a7a",
   "metadata": {},
   "outputs": [],
   "source": []
  },
  {
   "cell_type": "code",
   "execution_count": null,
   "id": "69080f34",
   "metadata": {},
   "outputs": [],
   "source": []
  }
 ],
 "metadata": {
  "kernelspec": {
   "display_name": "Python 3 (ipykernel)",
   "language": "python",
   "name": "python3"
  },
  "language_info": {
   "codemirror_mode": {
    "name": "ipython",
    "version": 3
   },
   "file_extension": ".py",
   "mimetype": "text/x-python",
   "name": "python",
   "nbconvert_exporter": "python",
   "pygments_lexer": "ipython3",
   "version": "3.9.0"
  }
 },
 "nbformat": 4,
 "nbformat_minor": 5
}
