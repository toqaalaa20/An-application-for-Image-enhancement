{
 "cells": [
  {
   "cell_type": "code",
   "execution_count": null,
   "id": "00fb45cf",
   "metadata": {},
   "outputs": [],
   "source": [
    "import numpy as np\n",
    "import pandas as pd\n",
    "import tensorflow as tf\n",
    "from keras.models import Input, Model\n",
    "from keras.layers import Dense, Dropout, Concatenate,Reshape, Conv2DTranspose,Conv2D, MaxPooling2D, LeakyReLU, UpSampling2D, Lambda\n",
    "import keras\n",
    "from tensorflow.keras.preprocessing.image import ImageDataGenerator\n",
    "import segmentation_models as sm\n",
    "import os\n",
    "import cv2"
   ]
  },
  {
   "cell_type": "code",
   "execution_count": null,
   "id": "494d89c3",
   "metadata": {},
   "outputs": [],
   "source": [
    "training_path= \"D:\\\\M\\\\Exposure_dataset\\\\training\"\n",
    "validation_path= \"D:\\\\M\\\\Exposure_dataset\\\\validation\""
   ]
  },
  {
   "cell_type": "code",
   "execution_count": null,
   "id": "53a1a8ac",
   "metadata": {},
   "outputs": [],
   "source": [
    "image_height= 128\n",
    "image_width= 128\n"
   ]
  },
  {
   "cell_type": "code",
   "execution_count": null,
   "id": "7eac0b0c",
   "metadata": {},
   "outputs": [],
   "source": [
    "data_generator = ImageDataGenerator(\n",
    "    rescale=1.0 / 255, \n",
    ")"
   ]
  },
  {
   "cell_type": "code",
   "execution_count": null,
   "id": "db5e9778",
   "metadata": {},
   "outputs": [],
   "source": [
    "train_data_generator = data_generator.flow_from_directory(\n",
    "    training_path,\n",
    "    target_size=(image_height, image_width),\n",
    "    batch_size=8,\n",
    "    class_mode='input', \n",
    "    shuffle=True\n",
    ")\n",
    "\n",
    "val_data_generator = data_generator.flow_from_directory(\n",
    "    validation_path,\n",
    "    target_size=(image_height, image_width),\n",
    "    batch_size=8,\n",
    "    class_mode='input',  \n",
    "    shuffle=False  \n",
    ")"
   ]
  },
  {
   "cell_type": "code",
   "execution_count": null,
   "id": "d96fb631",
   "metadata": {},
   "outputs": [],
   "source": [
    "sm.set_framework('tf.keras')\n",
    "sm.framework()"
   ]
  },
  {
   "cell_type": "code",
   "execution_count": null,
   "id": "1b2d2aee",
   "metadata": {},
   "outputs": [],
   "source": [
    "BACKBONE = 'vgg16'\n",
    "preprocess_input = sm.get_preprocessing(BACKBONE)"
   ]
  },
  {
   "cell_type": "code",
   "execution_count": null,
   "id": "eadb716d",
   "metadata": {},
   "outputs": [],
   "source": [
    "model = sm.Unet(BACKBONE, encoder_weights='imagenet')"
   ]
  },
  {
   "cell_type": "code",
   "execution_count": null,
   "id": "cb6079dc",
   "metadata": {},
   "outputs": [],
   "source": [
    "model.summary()"
   ]
  },
  {
   "cell_type": "code",
   "execution_count": null,
   "id": "92c3b9ed",
   "metadata": {},
   "outputs": [],
   "source": [
    "epochs = 20\n",
    "steps_per_epoch = len(train_data_generator)\n",
    "validation_steps = len(val_data_generator)"
   ]
  },
  {
   "cell_type": "code",
   "execution_count": null,
   "id": "883bb024",
   "metadata": {},
   "outputs": [],
   "source": [
    "with tf.device('/CPU:0'):\n",
    "    model.compile(optimizer='adam', loss='mean_squared_error', metrics=['mae'])\n",
    "    history = model.fit(\n",
    "            train_data_generator,\n",
    "            steps_per_epoch=steps_per_epoch,\n",
    "            epochs=epochs,\n",
    "            validation_data=val_data_generator,\n",
    "            validation_steps=validation_steps\n",
    "        )\n",
    "model.save('weights.h5')"
   ]
  },
  {
   "cell_type": "code",
   "execution_count": null,
   "id": "fede339b",
   "metadata": {},
   "outputs": [],
   "source": [
    "# with tf.device('/CPU:0'):\n",
    "#     H = model.fit(X_train, y_train,\n",
    "#                         validation_data=(X_val, y_val),\n",
    "#                         batch_size=8, epochs=100)\n",
    "#     model.save(\"weights.h5\")"
   ]
  },
  {
   "cell_type": "code",
   "execution_count": null,
   "id": "0a6db460",
   "metadata": {},
   "outputs": [],
   "source": []
  },
  {
   "cell_type": "code",
   "execution_count": null,
   "id": "cc0cc617",
   "metadata": {},
   "outputs": [],
   "source": []
  },
  {
   "cell_type": "code",
   "execution_count": null,
   "id": "6d1a452b",
   "metadata": {},
   "outputs": [],
   "source": []
  }
 ],
 "metadata": {
  "kernelspec": {
   "display_name": "Python 3 (ipykernel)",
   "language": "python",
   "name": "python3"
  },
  "language_info": {
   "codemirror_mode": {
    "name": "ipython",
    "version": 3
   },
   "file_extension": ".py",
   "mimetype": "text/x-python",
   "name": "python",
   "nbconvert_exporter": "python",
   "pygments_lexer": "ipython3",
   "version": "3.9.0"
  }
 },
 "nbformat": 4,
 "nbformat_minor": 5
}
