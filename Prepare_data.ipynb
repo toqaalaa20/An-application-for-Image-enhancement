{
 "cells": [
  {
   "cell_type": "code",
   "execution_count": 1,
   "id": "e8b8362a",
   "metadata": {},
   "outputs": [],
   "source": [
    "import os \n",
    "import shutil"
   ]
  },
  {
   "cell_type": "code",
   "execution_count": 6,
   "id": "b50c6888",
   "metadata": {},
   "outputs": [],
   "source": [
    "training_path= \"M:\\\\Exposure_dataset\\\\training\\\\INPUT_IMAGES\"\n",
    "output= \"M:\\\\Exposure_dataset\\\\training\\\\GT_IMAGES\"\n",
    "out= \"M:\\\\Exposure_dataset\\\\training\\\\GT\"\n",
    "validation_path= \"M:\\\\Exposure_dataset\\\\validation\\\\INPUT_IMAGES\"\n",
    "output_val= \"M:\\\\Exposure_dataset\\\\validation\\\\GT_IMAGES\"\n",
    "out_val= \"M:\\\\Exposure_dataset\\\\validation\\\\GT\""
   ]
  },
  {
   "cell_type": "code",
   "execution_count": 3,
   "id": "5bf86107",
   "metadata": {},
   "outputs": [],
   "source": [
    "n=1\n",
    "for img in os.listdir(training_path):\n",
    "    os.rename(os.path.join(training_path, img), os.path.join(training_path, f'distorted_{n}.JPG'))\n",
    "    n+=1\n",
    "    "
   ]
  },
  {
   "cell_type": "code",
   "execution_count": 7,
   "id": "6a408fe2",
   "metadata": {},
   "outputs": [],
   "source": [
    "n=1\n",
    "for img in os.listdir(output):\n",
    "    for i in range(5):\n",
    "        shutil.copy2(os.path.join(output, img), os.path.join(out, f'enhanced_{n}.JPG'))\n",
    "        n+=1\n",
    "    "
   ]
  },
  {
   "cell_type": "code",
   "execution_count": 8,
   "id": "b4b92470",
   "metadata": {},
   "outputs": [],
   "source": [
    "n=1\n",
    "for img in os.listdir(validation_path):\n",
    "    os.rename(os.path.join(validation_path, img), os.path.join(validation_path, f'distorted_{n}.JPG'))\n",
    "    n+=1\n",
    "    "
   ]
  },
  {
   "cell_type": "code",
   "execution_count": 9,
   "id": "f5ceef8a",
   "metadata": {},
   "outputs": [],
   "source": [
    "n=1\n",
    "for img in os.listdir(output_val):\n",
    "    for i in range(5):\n",
    "        shutil.copy2(os.path.join(output_val, img), os.path.join(out_val, f'enhanced_{n}.JPG'))\n",
    "        n+=1\n",
    "    "
   ]
  },
  {
   "cell_type": "code",
   "execution_count": null,
   "id": "886d093a",
   "metadata": {},
   "outputs": [],
   "source": []
  }
 ],
 "metadata": {
  "kernelspec": {
   "display_name": "Python 3 (ipykernel)",
   "language": "python",
   "name": "python3"
  },
  "language_info": {
   "codemirror_mode": {
    "name": "ipython",
    "version": 3
   },
   "file_extension": ".py",
   "mimetype": "text/x-python",
   "name": "python",
   "nbconvert_exporter": "python",
   "pygments_lexer": "ipython3",
   "version": "3.9.0"
  }
 },
 "nbformat": 4,
 "nbformat_minor": 5
}
